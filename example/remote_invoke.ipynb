{
 "cells": [
  {
   "cell_type": "code",
   "execution_count": null,
   "metadata": {},
   "outputs": [],
   "source": [
    "from langserve import RemoteRunnable\n",
    "\n",
    "# ngrok remote 주소 설정\n",
    "\n",
    "chain = RemoteRunnable(\"NGROK 에서 설정한 본인의 도메인 주소/prompt/\")\n",
    "# chain = RemoteRunnable(\"https://poodle-deep-marmot.ngrok-free.app/prompt/\")\n",
    "# chain = RemoteRunnable(\"http://0.0.0.0:8000/prompt/\")\n",
    "\n",
    "for token in chain.stream({\"topic\": \"딥러닝에 대해서 알려줘\"}):\n",
    "    print(token, end=\"\")"
   ]
  }
 ],
 "metadata": {
  "language_info": {
   "name": "python"
  }
 },
 "nbformat": 4,
 "nbformat_minor": 2
}
